{
 "metadata": {
  "language_info": {
   "codemirror_mode": {
    "name": "ipython",
    "version": 3
   },
   "file_extension": ".py",
   "mimetype": "text/x-python",
   "name": "python",
   "nbconvert_exporter": "python",
   "pygments_lexer": "ipython3",
   "version": "3.8.5-final"
  },
  "orig_nbformat": 2,
  "kernelspec": {
   "name": "python38564bitpython38conda0f5c38fadc9146448079776b39e2c2d4",
   "display_name": "Python 3.8.5 64-bit ('Python_3_8': conda)"
  }
 },
 "nbformat": 4,
 "nbformat_minor": 2,
 "cells": [
  {
   "cell_type": "code",
   "execution_count": 2,
   "metadata": {},
   "outputs": [
    {
     "output_type": "execute_result",
     "data": {
      "text/plain": [
       "57896044618658097711785492504343953926634992332820282019728792003956564819968"
      ]
     },
     "metadata": {},
     "execution_count": 2
    }
   ],
   "source": [
    "sys.maxsize\n",
    "2**255"
   ]
  },
  {
   "cell_type": "code",
   "execution_count": 4,
   "metadata": {},
   "outputs": [
    {
     "output_type": "execute_result",
     "data": {
      "text/plain": [
       "Decimal('3.16')"
      ]
     },
     "metadata": {},
     "execution_count": 4
    }
   ],
   "source": [
    "\"\"\" working on currency \"\"\"\n",
    "from decimal import Decimal\n",
    "tax_rate = Decimal('7.25')/Decimal(100)\n",
    "purchase_amount = Decimal('2.95')\n",
    "tax_rate * purchase_amount\n",
    "penny = Decimal('0.01')\n",
    "total_amount = purchase_amount + tax_rate * purchase_amount\n",
    "total_amount.quantize(penny)"
   ]
  },
  {
   "cell_type": "code",
   "execution_count": 2,
   "metadata": {},
   "outputs": [
    {
     "output_type": "execute_result",
     "data": {
      "text/plain": [
       "Fraction(3, 2)"
      ]
     },
     "metadata": {},
     "execution_count": 2
    }
   ],
   "source": [
    "from fractions import Fraction\n",
    "sugar_cups = Fraction('2.5')\n",
    "scale_factor = Fraction('5/8')\n",
    "sugar_cups * scale_factor\n",
    "Fraction(24 , 16)"
   ]
  },
  {
   "cell_type": "code",
   "execution_count": 17,
   "metadata": {},
   "outputs": [
    {
     "output_type": "stream",
     "name": "stdout",
     "text": [
      "0.9999999999999999\n1.0\n1.1102230246251565e-16\n"
     ]
    },
    {
     "output_type": "execute_result",
     "data": {
      "text/plain": [
       "\"It's important to note that float values are really approximations. The Python syntax allows us to write numbers as decimal values; however, that's not how they're processed internally.\""
      ]
     },
     "metadata": {},
     "execution_count": 17
    }
   ],
   "source": [
    "print((19/155)*(155/19))\n",
    "print(round(((19/155)*(155/19)), 3))\n",
    "answer = (19/155)*(155/19)\n",
    "round(answer, 3)\n",
    "print(1 - answer)\n",
    "\"\"\"Don't compare floating-point values for exact equality.\"\"\"\n",
    "\"\"\"It's important to note that float values are really approximations. The Python syntax allows us to write numbers as decimal values; however, that's not how they're processed internally.\"\"\"\n",
    "\n"
   ]
  },
  {
   "cell_type": "code",
   "execution_count": 12,
   "metadata": {},
   "outputs": [
    {
     "output_type": "execute_result",
     "data": {
      "text/plain": [
       "(2, 3, 5)"
      ]
     },
     "metadata": {},
     "execution_count": 12
    }
   ],
   "source": [
    "total_seconds = 7385\n",
    "hours = total_seconds // 3600\n",
    "remainig_seconds = total_seconds % 3600\n",
    "minutes = remainig_seconds // 60\n",
    "seconds = remainig_seconds % 60\n",
    "hours, minutes, seconds"
   ]
  },
  {
   "cell_type": "code",
   "execution_count": 13,
   "metadata": {},
   "outputs": [
    {
     "output_type": "execute_result",
     "data": {
      "text/plain": [
       "(2, 3, 5)"
      ]
     },
     "metadata": {},
     "execution_count": 13
    }
   ],
   "source": [
    "total_seconds = 7385\n",
    "hours, remaining_seconds = divmod(total_seconds, 3600)\n",
    "minutes , seconds = divmod(remaining_seconds, 60)\n",
    "hours, minutes, seconds"
   ]
  },
  {
   "cell_type": "code",
   "execution_count": 20,
   "metadata": {},
   "outputs": [
    {
     "output_type": "execute_result",
     "data": {
      "text/plain": [
       "' We provided two integer values, but got a floating-point exact result. Consistent with our previous recipe, when using floating-point values, we rounded the result to avoid having to look at tiny error values. '"
      ]
     },
     "metadata": {},
     "execution_count": 20
    }
   ],
   "source": [
    "\"\"\" TRUE DIVISION \"\"\"\n",
    "total_seconds = 7385\n",
    "hours = total_seconds / 3600\n",
    "round(hours, 4)\n",
    "\"\"\" We provided two integer values, but got a floating-point exact result. Consistent with our previous recipe, when using floating-point values, we rounded the result to avoid having to look at tiny error values. \"\"\"\n"
   ]
  },
  {
   "cell_type": "code",
   "execution_count": 39,
   "metadata": {},
   "outputs": [
    {
     "output_type": "stream",
     "name": "stdout",
     "text": [
      "Recipe 5\n Rewriting, and the Immutable String\n"
     ]
    }
   ],
   "source": [
    "title = \"Recipe 5: Rewriting, and the Immutable String\"\n",
    "colon_position = title.index(':')\n",
    "discard, post_colon = title[:colon_position], title[colon_position + 1:]\n",
    "print(discard)\n",
    "print(post_colon)"
   ]
  },
  {
   "cell_type": "code",
   "execution_count": 41,
   "metadata": {},
   "outputs": [
    {
     "output_type": "stream",
     "name": "stdout",
     "text": [
      "Recipe 5\n Rewriting, and the Immutable String\n"
     ]
    }
   ],
   "source": [
    "title = \"Recipe 5: Rewriting, and the Immutable String\"\n",
    "pre_colon_txt, _, post_colon_text = title.partition(':')\n",
    "print(pre_colon_txt)\n",
    "print(post_colon_text) "
   ]
  },
  {
   "cell_type": "code",
   "execution_count": 44,
   "metadata": {},
   "outputs": [
    {
     "output_type": "execute_result",
     "data": {
      "text/plain": [
       "'_Rewriting__and_the_Immutable_String'"
      ]
     },
     "metadata": {},
     "execution_count": 44
    }
   ],
   "source": [
    "title = \"Recipe 5: Rewriting, and the Immutable String\"\n",
    "post_colon_text = post_colon_text.replace(' ', '_')\n",
    "post_colon_text = post_colon_text.replace(',', '_')\n",
    "post_colon_text"
   ]
  },
  {
   "cell_type": "code",
   "execution_count": 45,
   "metadata": {},
   "outputs": [
    {
     "output_type": "execute_result",
     "data": {
      "text/plain": [
       "'_Rewriting__and_the_Immutable_String'"
      ]
     },
     "metadata": {},
     "execution_count": 45
    }
   ],
   "source": [
    "title = \"Recipe 5: Rewriting, and the Immutable String\"\n",
    "from string import whitespace, punctuation\n",
    "for character in whitespace + punctuation:\n",
    "    post_colon_text = post_colon_text.replace(character, '_')\n",
    "post_colon_text"
   ]
  },
  {
   "cell_type": "code",
   "execution_count": 47,
   "metadata": {},
   "outputs": [
    {
     "output_type": "stream",
     "name": "stdout",
     "text": [
      "g\nn\nString\n"
     ]
    }
   ],
   "source": [
    "\"\"\" SLICE A slice has two parts: [start:end]\"\"\"\n",
    "\"\"\" The items in a slice have an index from start to end-1 . This is sometimes called a half-open interval. \"\"\"\n",
    "title = \"Recipe 5: Rewriting, and the Immutable String\"\n",
    "print(title[-1])\n",
    "print(title[-2])\n",
    "print(title[-6:])"
   ]
  },
  {
   "cell_type": "code",
   "execution_count": 54,
   "metadata": {},
   "outputs": [
    {
     "output_type": "execute_result",
     "data": {
      "text/plain": [
       "('Martini Olives', '2', 'count')"
      ]
     },
     "metadata": {},
     "execution_count": 54
    }
   ],
   "source": [
    "\"\"\" RE \"\"\"\n",
    "ingredient = \"Kumquat: 2 cups\"\n",
    "\"\"\" (ingredient words): (amount digits) (unit words) \"\"\"\n",
    "import re\n",
    "pattern_text = r'(\\w+):\\s+(\\d+)\\s+(\\w+)'\n",
    "pattern = re.compile(pattern_text)\n",
    "match = pattern.match(ingredient)\n",
    "match is None\n",
    "match.groups()\n",
    "match.group(1)\n",
    "match.group(2)\n",
    "ingredient_pattern_x = re.compile(\n",
    "r'(?P<ingredient>[\\w\\s]+):\\s+' # name of the ingredient up to the \":\"\n",
    "r'(?P<amount>\\d+)\\s+'          # amount, all digits up to a space\n",
    "r'(?P<unit>\\w+)'               # units, alphanumeric characters\n",
    " )\n",
    "ingredient2 = \"Martini Olives: 2 count\"\n",
    "m_x = ingredient_pattern_x.match(ingredient2)\n",
    "m_x.groups()"
   ]
  },
  {
   "cell_type": "code",
   "execution_count": null,
   "metadata": {},
   "outputs": [],
   "source": [
    "id = \"IAD\"\n",
    "location = \"Dulles Intl Airport\"\n",
    "max_temp = 32\n",
    "min_temp = 13\n",
    "precipitation = 0.4\n",
    "\"\"\" return -> IAD : Dulles Intl Airport : 32 / 13 / 0.40 \"\"\""
   ]
  }
 ]
}