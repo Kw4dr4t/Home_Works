{
 "metadata": {
  "language_info": {
   "codemirror_mode": {
    "name": "ipython",
    "version": 3
   },
   "file_extension": ".py",
   "mimetype": "text/x-python",
   "name": "python",
   "nbconvert_exporter": "python",
   "pygments_lexer": "ipython3",
   "version": "3.8.5-final"
  },
  "orig_nbformat": 2,
  "kernelspec": {
   "name": "python38564bitpython38conda0f5c38fadc9146448079776b39e2c2d4",
   "display_name": "Python 3.8.5 64-bit ('Python_3_8': conda)"
  }
 },
 "nbformat": 4,
 "nbformat_minor": 2,
 "cells": [
  {
   "cell_type": "code",
   "execution_count": 8,
   "metadata": {},
   "outputs": [
    {
     "output_type": "stream",
     "name": "stdout",
     "text": [
      "name: \t\tMichał\nsurname: \tMałek\ne-mail: \texample@example.com\nstreet: \tSzeroka 5\n"
     ]
    }
   ],
   "source": [
    "print(\"name: \\t\\tMichał\")\n",
    "print(\"surname: \\tMałek\")\n",
    "print(\"e-mail: \\texample@example.com\")\n",
    "print(\"street: \\tSzeroka 5\")\n"
   ]
  },
  {
   "cell_type": "code",
   "execution_count": 9,
   "metadata": {},
   "outputs": [
    {
     "output_type": "stream",
     "name": "stdout",
     "text": [
      "Hello Michał\n"
     ]
    }
   ],
   "source": [
    "name = input(\"Enter Your name: \")\n",
    "print(f\"Hello {name}\")"
   ]
  },
  {
   "cell_type": "code",
   "execution_count": 13,
   "metadata": {},
   "outputs": [
    {
     "output_type": "stream",
     "name": "stdout",
     "text": [
      "Area of a room is:  11.56\n"
     ]
    }
   ],
   "source": [
    "width = float(input(\"Enter a width of a room: \"))\n",
    "lenght = float(input(\"Enter a lenght of a room: \"))\n",
    "area = width * lenght\n",
    "print(\"Area of a room is: \", round(area, 2))\n"
   ]
  },
  {
   "cell_type": "code",
   "execution_count": 15,
   "metadata": {},
   "outputs": [
    {
     "output_type": "stream",
     "name": "stdout",
     "text": [
      "Area of a field is:  1365.12  acre\n"
     ]
    }
   ],
   "source": [
    "width = float(input(\"Enter width of a field in feet: \"))\n",
    "lenght = float(input(\"Enter leght of a field in feet: \"))\n",
    "area = (width * lenght) / 43560\n",
    "print(\"Area of a field is: \", round(area,2), \" acre\") "
   ]
  },
  {
   "cell_type": "code",
   "execution_count": 20,
   "metadata": {},
   "outputs": [
    {
     "output_type": "stream",
     "name": "stdout",
     "text": [
      "Refund from 1 liter conteiners is  3.4 $ and from larger cointeiners is  11.25 $. Total is:  14.65 $\n"
     ]
    }
   ],
   "source": [
    "ltr_or_less = int(input(\"Enter amount of 1 litre or less containers: \"))\n",
    "above_ltr = int(input(\"Enter amount of a containers above one liter: \"))\n",
    "refund_one = ltr_or_less * 0.10\n",
    "refund_two = above_ltr * 0.25\n",
    "print(\"Refund from 1 liter conteiners is \", round(refund_one, 2),\"$\", \"and from larger cointeiners is \", round(refund_two, 2),\"$.\", \"Total is: \", refund_one + refund_two,\"$\")"
   ]
  },
  {
   "cell_type": "code",
   "execution_count": 21,
   "metadata": {},
   "outputs": [],
   "source": [
    "#ex6"
   ]
  },
  {
   "cell_type": "code",
   "execution_count": null,
   "metadata": {},
   "outputs": [],
   "source": [
    "n = int(input(\"Enter \"))"
   ]
  }
 ]
}